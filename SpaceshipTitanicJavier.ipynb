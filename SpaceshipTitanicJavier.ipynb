{
 "cells": [
  {
   "cell_type": "markdown",
   "metadata": {},
   "source": [
    "# Spaceship Titanic\n",
    "\n",
    "Our goal is to predict whether a passenger was transported to an alternate dimension during the Spaceship Titanic's collision with the spacetime anomaly.\n"
   ]
  },
  {
   "cell_type": "markdown",
   "metadata": {},
   "source": [
    "## File and Data Field Descriptions\n",
    "\n",
    "* **train.csv** - Personal records for about two-thirds (~8700) of the passengers, to be used as training data.\n",
    "    * PassengerId - A unique Id for each passenger. Each Id takes the form gggg_pp where gggg indicates a group the passenger is travelling with and pp is their number within the group. People in a group are often family members, but not always.\n",
    "    * HomePlanet - The planet the passenger departed from, typically their planet of permanent residence.\n",
    "    * CryoSleep - Indicates whether the passenger elected to be put into suspended animation for the duration of the voyage. Passengers in cryosleep are confined to their cabins.\n",
    "    * Cabin - The cabin number where the passenger is staying. Takes the form deck/num/side, where side can be either P for Port or S for Starboard.\n",
    "    * Destination - The planet the passenger will be debarking to.\n",
    "    * Age - The age of the passenger.\n",
    "    * VIP - Whether the passenger has paid for special VIP service during the voyage.\n",
    "    * RoomService, FoodCourt, ShoppingMall, Spa, VRDeck - Amount the passenger has billed at each of the Spaceship Titanic's many luxury amenities.\n",
    "    * Name - The first and last names of the passenger.\n",
    "    * Transported - Whether the passenger was transported to another dimension. This is the target, the column you are trying to predict.\n",
    "* **test.csv** - Personal records for the remaining one-third (~4300) of the passengers, to be used as test data. Your task is to predict the value of Transported for the passengers in this set.\n",
    "* **sample_submission.csv** - A submission file in the correct format.\n",
    "    * PassengerId - Id for each passenger in the test set.\n",
    "    * Transported - The target. For each passenger, predict either True or False."
   ]
  },
  {
   "cell_type": "markdown",
   "metadata": {},
   "source": [
    "## Libraries imports"
   ]
  },
  {
   "cell_type": "code",
   "execution_count": 1,
   "metadata": {
    "_cell_guid": "b1076dfc-b9ad-4769-8c92-a6c4dae69d19",
    "_uuid": "8f2839f25d086af736a60e9eeb907d3b93b6e0e5",
    "execution": {
     "iopub.execute_input": "2025-04-17T22:51:46.329307Z",
     "iopub.status.busy": "2025-04-17T22:51:46.328988Z",
     "iopub.status.idle": "2025-04-17T22:51:46.334775Z",
     "shell.execute_reply": "2025-04-17T22:51:46.333736Z",
     "shell.execute_reply.started": "2025-04-17T22:51:46.329278Z"
    },
    "trusted": true
   },
   "outputs": [],
   "source": [
    "from sklearn.model_selection import train_test_split\n",
    "import pandas as pd\n",
    "import numpy as np\n",
    "import seaborn as sns\n",
    "import matplotlib.pyplot as plt\n",
    "from sklearn.preprocessing import MinMaxScaler\n",
    "from sklearn.decomposition import PCA"
   ]
  },
  {
   "cell_type": "markdown",
   "metadata": {},
   "source": [
    "## 1) Dataset loading and preprocess"
   ]
  },
  {
   "cell_type": "markdown",
   "metadata": {},
   "source": [
    "First of all, we load the training and test sets."
   ]
  },
  {
   "cell_type": "code",
   "execution_count": 2,
   "metadata": {
    "execution": {
     "iopub.execute_input": "2025-04-17T22:53:41.701025Z",
     "iopub.status.busy": "2025-04-17T22:53:41.700621Z",
     "iopub.status.idle": "2025-04-17T22:53:41.799405Z",
     "shell.execute_reply": "2025-04-17T22:53:41.798601Z",
     "shell.execute_reply.started": "2025-04-17T22:53:41.701001Z"
    },
    "trusted": true
   },
   "outputs": [
    {
     "name": "stdout",
     "output_type": "stream",
     "text": [
      "Full train dataset shape is (8693, 14)\n",
      "Full test dataset shape is (4277, 13)\n"
     ]
    }
   ],
   "source": [
    "# Load a dataset into a Pandas Dataframe\n",
    "# Try to load the dataset from Kaggle, if not found, load from local directory\n",
    "try:\n",
    "    train_df = pd.read_csv('/kaggle/input/spaceship-titanic/train.csv')\n",
    "    test_df = pd.read_csv('/kaggle/input/spaceship-titanic/test.csv')\n",
    "except FileNotFoundError:\n",
    "    train_df = pd.read_csv('kaggle/input/spaceship-titanic/train.csv')\n",
    "    test_df = pd.read_csv('kaggle/input/spaceship-titanic/test.csv')\n",
    "\n",
    "print(\"Full train dataset shape is {}\".format(train_df.shape))\n",
    "print(\"Full test dataset shape is {}\".format(test_df.shape))"
   ]
  },
  {
   "cell_type": "code",
   "execution_count": 3,
   "metadata": {
    "trusted": true
   },
   "outputs": [],
   "source": [
    "# I split the datasets into features (X) and tag (Y)\n",
    "train_x = train_df.drop(columns=['Transported'])\n",
    "train_y = train_df['Transported'].astype(int)  # Convert boolean to int (0 or 1)\n",
    "\n",
    "test_x = test_df"
   ]
  },
  {
   "cell_type": "markdown",
   "metadata": {},
   "source": [
    "To evaluate the different models used, I will one 5-fold Cross-Validation, so there is no need to created a validation dataset from the training data, so the next step is to preprocess the dataset, to do that I will check each individual feature."
   ]
  },
  {
   "cell_type": "markdown",
   "metadata": {},
   "source": [
    "### PassengerId\n",
    "\n",
    "This variable represents a unique Id for each passenger. Each Id takes the form gggg_pp where gggg indicates a group the passenger is travelling with and pp is their number within the group. People in a group are often family members, but not always.\n",
    "\n",
    "At the begining it seems to be a variant without information to solve the problem, something like a name, however as it said, we can extract the number of members that each group has and that can be something relevant.\n",
    "However to know the number of members a group has, we have to use the whole dataset, trining + test sets. To do this would be a problem in most cases because we are not sure that our dataset contain all the existent samples, however for this task, the description tells us that we have about two-thirds (~8700) of the passengers as the training set and THE REMAINING one-third (~4300) of the passengers as test, so we got at least partial information about all the passengers."
   ]
  },
  {
   "cell_type": "code",
   "execution_count": 4,
   "metadata": {},
   "outputs": [
    {
     "name": "stdout",
     "output_type": "stream",
     "text": [
      "Missing values in PassengerId:\n",
      "train_x: 0\n",
      "test_x: 0\n",
      "Updated train_x:\n",
      "  PassengerId Group  numMembers\n",
      "0     0001_01  0001           1\n",
      "1     0002_01  0002           1\n",
      "2     0003_01  0003           2\n",
      "3     0003_02  0003           2\n",
      "4     0004_01  0004           1\n",
      "\n",
      "Updated test_x:\n",
      "  PassengerId Group  numMembers\n",
      "0     0013_01  0013           1\n",
      "1     0018_01  0018           1\n",
      "2     0019_01  0019           1\n",
      "3     0021_01  0021           1\n",
      "4     0023_01  0023           1\n"
     ]
    }
   ],
   "source": [
    "# Check for missing values in PassengerId\n",
    "print(\"Missing values in PassengerId:\")\n",
    "print(f\"train_x: {train_x['PassengerId'].isnull().sum()}\")\n",
    "print(f\"test_x: {test_x['PassengerId'].isnull().sum()}\")\n",
    "\n",
    "# Extract group identifier (gggg) from PassengerId\n",
    "train_x['Group'] = train_x['PassengerId'].str.split('_').str[0]\n",
    "test_x['Group'] = test_x['PassengerId'].str.split('_').str[0]\n",
    "\n",
    "# Combine all dataframes to calculate group sizes across all datasets\n",
    "combined_df = pd.concat([train_x, test_x])\n",
    "\n",
    "# Calculate the total number of members in each group\n",
    "group_sizes = combined_df['Group'].value_counts()\n",
    "\n",
    "# Add the numMembers column to each dataframe\n",
    "train_x['numMembers'] = train_x['Group'].map(group_sizes)\n",
    "test_x['numMembers'] = test_x['Group'].map(group_sizes)\n",
    "\n",
    "# Display the updated dataframes\n",
    "print(\"Updated train_x:\")\n",
    "print(train_x[['PassengerId', 'Group', 'numMembers']].head())\n",
    "\n",
    "print(\"\\nUpdated test_x:\")\n",
    "print(test_x[['PassengerId', 'Group', 'numMembers']].head())\n"
   ]
  },
  {
   "cell_type": "markdown",
   "metadata": {},
   "source": [
    "Now we can remove the columns PassengerId and Group, that don't give us any more information, however I will wait and remove all the useless columns after analyze all the features."
   ]
  },
  {
   "cell_type": "markdown",
   "metadata": {},
   "source": [
    "### HomePlanet \n",
    "The planet the passenger departed from, typically their planet of permanent residence.\n",
    "\n",
    "This is a categorical feature, so we will need to encode it in some way in order to give the information to the models."
   ]
  },
  {
   "cell_type": "code",
   "execution_count": 5,
   "metadata": {},
   "outputs": [
    {
     "name": "stdout",
     "output_type": "stream",
     "text": [
      "HomePlanet unique values:  ['Europa' 'Earth' 'Mars' nan]\n",
      "Missing values in HomePlanet:  201 (2.31%)\n"
     ]
    }
   ],
   "source": [
    "# First I check how many different values we have in this variant (HomePlanet)\n",
    "print(\"HomePlanet unique values: \", train_x['HomePlanet'].unique())\n",
    "\n",
    "# And also if there are any missing values and how many\n",
    "print(\"Missing values in HomePlanet: \", train_x['HomePlanet'].isnull().sum(), f\"({train_x['HomePlanet'].isnull().sum()/len(train_x)*100:.2f}%)\")"
   ]
  },
  {
   "cell_type": "markdown",
   "metadata": {},
   "source": [
    "First of all, let's solve the issue with the missing values, we can assume that members of the same group depart from the same planet, so the first approach will be to assign the existing value of one member of the group to other members that have a null value in the HomePlanet variable."
   ]
  },
  {
   "cell_type": "code",
   "execution_count": 6,
   "metadata": {},
   "outputs": [
    {
     "name": "stdout",
     "output_type": "stream",
     "text": [
      "All members of the same group have the same HomePlanet.\n"
     ]
    }
   ],
   "source": [
    "# Check if all members of the same group have the same HomePlanet\n",
    "group_destination_check = train_x.groupby('Group')['HomePlanet'].nunique()\n",
    "\n",
    "# Find groups with more than one unique HomePlanet\n",
    "inconsistent_groups = group_destination_check[group_destination_check > 1]\n",
    "\n",
    "# Print the result\n",
    "if inconsistent_groups.empty:\n",
    "    print(\"All members of the same group have the same HomePlanet.\")\n",
    "else:\n",
    "    print(\"Some groups have inconsistent HomePlanet:\")\n",
    "    print(inconsistent_groups)"
   ]
  },
  {
   "cell_type": "code",
   "execution_count": 7,
   "metadata": {},
   "outputs": [
    {
     "name": "stderr",
     "output_type": "stream",
     "text": [
      "C:\\Users\\javie\\AppData\\Local\\Temp\\ipykernel_12276\\3139282582.py:2: FutureWarning: Downcasting object dtype arrays on .fillna, .ffill, .bfill is deprecated and will change in a future version. Call result.infer_objects(copy=False) instead. To opt-in to the future behavior, set `pd.set_option('future.no_silent_downcasting', True)`\n",
      "  train_x['HomePlanet'] = train_x.groupby('Group')['HomePlanet'].transform(lambda x: x.ffill().bfill())\n",
      "C:\\Users\\javie\\AppData\\Local\\Temp\\ipykernel_12276\\3139282582.py:3: FutureWarning: Downcasting object dtype arrays on .fillna, .ffill, .bfill is deprecated and will change in a future version. Call result.infer_objects(copy=False) instead. To opt-in to the future behavior, set `pd.set_option('future.no_silent_downcasting', True)`\n",
      "  test_x['HomePlanet'] = test_x.groupby('Group')['HomePlanet'].transform(lambda x: x.ffill().bfill())\n"
     ]
    },
    {
     "name": "stdout",
     "output_type": "stream",
     "text": [
      "Missing values in HomePlanet after filling:\n",
      "train_x: 111\n",
      "test_x: 46\n"
     ]
    }
   ],
   "source": [
    "# Fill missing HomePlanet values based on the group\n",
    "train_x['HomePlanet'] = train_x.groupby('Group')['HomePlanet'].transform(lambda x: x.ffill().bfill())\n",
    "test_x['HomePlanet'] = test_x.groupby('Group')['HomePlanet'].transform(lambda x: x.ffill().bfill())\n",
    "\n",
    "# Verify if there are still missing values in HomePlanet\n",
    "print(\"Missing values in HomePlanet after filling:\")\n",
    "print(f\"train_x: {train_x['HomePlanet'].isnull().sum()}\")\n",
    "print(f\"test_x: {test_x['HomePlanet'].isnull().sum()}\")"
   ]
  },
  {
   "cell_type": "code",
   "execution_count": 8,
   "metadata": {},
   "outputs": [
    {
     "data": {
      "text/html": [
       "<div>\n",
       "<style scoped>\n",
       "    .dataframe tbody tr th:only-of-type {\n",
       "        vertical-align: middle;\n",
       "    }\n",
       "\n",
       "    .dataframe tbody tr th {\n",
       "        vertical-align: top;\n",
       "    }\n",
       "\n",
       "    .dataframe thead th {\n",
       "        text-align: right;\n",
       "    }\n",
       "</style>\n",
       "<table border=\"1\" class=\"dataframe\">\n",
       "  <thead>\n",
       "    <tr style=\"text-align: right;\">\n",
       "      <th></th>\n",
       "      <th>PassengerId</th>\n",
       "      <th>HomePlanet</th>\n",
       "      <th>CryoSleep</th>\n",
       "      <th>Cabin</th>\n",
       "      <th>Destination</th>\n",
       "      <th>Age</th>\n",
       "      <th>VIP</th>\n",
       "      <th>RoomService</th>\n",
       "      <th>FoodCourt</th>\n",
       "      <th>ShoppingMall</th>\n",
       "      <th>Spa</th>\n",
       "      <th>VRDeck</th>\n",
       "      <th>Name</th>\n",
       "      <th>Group</th>\n",
       "      <th>numMembers</th>\n",
       "    </tr>\n",
       "  </thead>\n",
       "  <tbody>\n",
       "    <tr>\n",
       "      <th>59</th>\n",
       "      <td>0064_02</td>\n",
       "      <td>Mars</td>\n",
       "      <td>True</td>\n",
       "      <td>E/3/S</td>\n",
       "      <td>TRAPPIST-1e</td>\n",
       "      <td>33.0</td>\n",
       "      <td>False</td>\n",
       "      <td>0.0</td>\n",
       "      <td>0.0</td>\n",
       "      <td>NaN</td>\n",
       "      <td>0.0</td>\n",
       "      <td>0.0</td>\n",
       "      <td>Colatz Keen</td>\n",
       "      <td>0064</td>\n",
       "      <td>2</td>\n",
       "    </tr>\n",
       "  </tbody>\n",
       "</table>\n",
       "</div>"
      ],
      "text/plain": [
       "   PassengerId HomePlanet CryoSleep  Cabin  Destination   Age    VIP  \\\n",
       "59     0064_02       Mars      True  E/3/S  TRAPPIST-1e  33.0  False   \n",
       "\n",
       "    RoomService  FoodCourt  ShoppingMall  Spa  VRDeck         Name Group  \\\n",
       "59          0.0        0.0           NaN  0.0     0.0  Colatz Keen  0064   \n",
       "\n",
       "    numMembers  \n",
       "59           2  "
      ]
     },
     "execution_count": 8,
     "metadata": {},
     "output_type": "execute_result"
    }
   ],
   "source": [
    "# Check an example to see that everything is correct, in this case the group 0064 come from Mars\n",
    "train_x[train_x['Name'] == 'Colatz Keen']"
   ]
  },
  {
   "cell_type": "markdown",
   "metadata": {},
   "source": [
    "We filled ~50% of the empty values based on the training set, however we still have a little bit more than a 1% of empty entries, so now I will check the class distribution, maybe there is one popular class and I can simply give that class value to the empty entries."
   ]
  },
  {
   "cell_type": "code",
   "execution_count": 9,
   "metadata": {},
   "outputs": [
    {
     "name": "stdout",
     "output_type": "stream",
     "text": [
      "HomePlanet distribution (counts):\n",
      "HomePlanet\n",
      "Earth     4634\n",
      "Europa    2161\n",
      "Mars      1787\n",
      "NaN        111\n",
      "Name: count, dtype: int64\n",
      "\n",
      "HomePlanet distribution (percentages):\n",
      "HomePlanet\n",
      "Earth     53.31\n",
      "Europa    24.86\n",
      "Mars      20.56\n",
      "NaN        1.28\n",
      "Name: proportion, dtype: float64\n"
     ]
    }
   ],
   "source": [
    "# Class distribution for the HomePlanet column\n",
    "homeplanet_distribution = train_x['HomePlanet'].value_counts(dropna=False)\n",
    "homeplanet_percentages = (train_x['HomePlanet'].value_counts(normalize=True, dropna=False) * 100).round(2)\n",
    "\n",
    "print(\"HomePlanet distribution (counts):\")\n",
    "print(homeplanet_distribution)\n",
    "print(\"\\nHomePlanet distribution (percentages):\")\n",
    "print(homeplanet_percentages)"
   ]
  },
  {
   "cell_type": "markdown",
   "metadata": {},
   "source": [
    "Seeing the distribution, if I assign Earth to the empty values, I will aim ~53% of the cases, taking into account that we have 1.28% of empty values, I will have ~0.6% of incorrect values with this approach, this is a very low percentage, so I go with this plan."
   ]
  },
  {
   "cell_type": "code",
   "execution_count": 10,
   "metadata": {},
   "outputs": [
    {
     "name": "stdout",
     "output_type": "stream",
     "text": [
      "Missing values in HomePlanet after filling with 'Earth':\n",
      "train_x: 0\n",
      "test_x: 0\n"
     ]
    }
   ],
   "source": [
    "# Fill NaN values in the HomePlanet column with 'Earth'\n",
    "train_x['HomePlanet'] = train_x['HomePlanet'].fillna('Earth')\n",
    "test_x['HomePlanet'] = test_x['HomePlanet'].fillna('Earth')\n",
    "\n",
    "# Verify if there are still missing values in HomePlanet\n",
    "print(\"Missing values in HomePlanet after filling with 'Earth':\")\n",
    "print(f\"train_x: {train_x['HomePlanet'].isnull().sum()}\")\n",
    "print(f\"test_x: {test_x['HomePlanet'].isnull().sum()}\")"
   ]
  },
  {
   "cell_type": "markdown",
   "metadata": {},
   "source": [
    "Finally, in order to train the model with this feature, we need to encode it, to do that I will use one-hot encoding that will add 1 more variable to the problem.\n",
    "\n",
    "The idea is to pass from HomePlanet to two boolean variables, isHomeEarth and isHomeEuropa, if both variants are False we still have the info that the HomePlanet is Mars without having to explicitly saving into another variant. With this approach I am assuming that the only possible HomePlanets are Earth, Mars and Europa, which is not crazy to say seeing the class distribution in the training set. "
   ]
  },
  {
   "cell_type": "code",
   "execution_count": 11,
   "metadata": {},
   "outputs": [
    {
     "data": {
      "text/html": [
       "<div>\n",
       "<style scoped>\n",
       "    .dataframe tbody tr th:only-of-type {\n",
       "        vertical-align: middle;\n",
       "    }\n",
       "\n",
       "    .dataframe tbody tr th {\n",
       "        vertical-align: top;\n",
       "    }\n",
       "\n",
       "    .dataframe thead th {\n",
       "        text-align: right;\n",
       "    }\n",
       "</style>\n",
       "<table border=\"1\" class=\"dataframe\">\n",
       "  <thead>\n",
       "    <tr style=\"text-align: right;\">\n",
       "      <th></th>\n",
       "      <th>HomePlanet</th>\n",
       "      <th>isHomeEarth</th>\n",
       "      <th>isHomeEuropa</th>\n",
       "    </tr>\n",
       "  </thead>\n",
       "  <tbody>\n",
       "    <tr>\n",
       "      <th>0</th>\n",
       "      <td>Europa</td>\n",
       "      <td>0</td>\n",
       "      <td>1</td>\n",
       "    </tr>\n",
       "    <tr>\n",
       "      <th>1</th>\n",
       "      <td>Earth</td>\n",
       "      <td>1</td>\n",
       "      <td>0</td>\n",
       "    </tr>\n",
       "    <tr>\n",
       "      <th>2</th>\n",
       "      <td>Europa</td>\n",
       "      <td>0</td>\n",
       "      <td>1</td>\n",
       "    </tr>\n",
       "    <tr>\n",
       "      <th>3</th>\n",
       "      <td>Europa</td>\n",
       "      <td>0</td>\n",
       "      <td>1</td>\n",
       "    </tr>\n",
       "    <tr>\n",
       "      <th>4</th>\n",
       "      <td>Earth</td>\n",
       "      <td>1</td>\n",
       "      <td>0</td>\n",
       "    </tr>\n",
       "  </tbody>\n",
       "</table>\n",
       "</div>"
      ],
      "text/plain": [
       "  HomePlanet  isHomeEarth  isHomeEuropa\n",
       "0     Europa            0             1\n",
       "1      Earth            1             0\n",
       "2     Europa            0             1\n",
       "3     Europa            0             1\n",
       "4      Earth            1             0"
      ]
     },
     "execution_count": 11,
     "metadata": {},
     "output_type": "execute_result"
    }
   ],
   "source": [
    "# One-hot encoding for HomePlanet\n",
    "train_x['isHomeEarth'] = (train_x['HomePlanet'] == 'Earth').astype(int)\n",
    "train_x['isHomeEuropa'] = (train_x['HomePlanet'] == 'Europa').astype(int)\n",
    "\n",
    "test_x['isHomeEarth'] = (test_x['HomePlanet'] == 'Earth').astype(int)\n",
    "test_x['isHomeEuropa'] = (test_x['HomePlanet'] == 'Europa').astype(int)\n",
    "\n",
    "# Verify the new columns\n",
    "train_x[['HomePlanet', 'isHomeEarth', 'isHomeEuropa']].head()"
   ]
  },
  {
   "cell_type": "markdown",
   "metadata": {},
   "source": [
    "### CryoSleep \n",
    "Indicates whether the passenger elected to be put into suspended animation for the duration of the voyage. Passengers in cryosleep are confined to their cabins.\n",
    "\n",
    "This is a boolean variable, so we only have to cast it into integer, however first I need to check if there are any empty value and the class distribution."
   ]
  },
  {
   "cell_type": "code",
   "execution_count": 12,
   "metadata": {},
   "outputs": [
    {
     "name": "stdout",
     "output_type": "stream",
     "text": [
      "CryoSleep distribution (counts):\n",
      "CryoSleep\n",
      "False    5439\n",
      "True     3037\n",
      "NaN       217\n",
      "Name: count, dtype: int64\n",
      "\n",
      "CryoSleep distribution (percentages):\n",
      "CryoSleep\n",
      "False    62.57\n",
      "True     34.94\n",
      "NaN       2.50\n",
      "Name: proportion, dtype: float64\n",
      "Missing values in CryoSleep:  217 (2.50%)\n"
     ]
    }
   ],
   "source": [
    "# Print the distribution of CryoSleep\n",
    "cryosleep_distribution = train_x['CryoSleep'].value_counts(dropna=False)\n",
    "cryosleep_percentages = (train_x['CryoSleep'].value_counts(normalize=True, dropna=False) * 100).round(2)\n",
    "\n",
    "print(\"CryoSleep distribution (counts):\")\n",
    "print(cryosleep_distribution)\n",
    "print(\"\\nCryoSleep distribution (percentages):\")\n",
    "print(cryosleep_percentages)\n",
    "\n",
    "print(\"Missing values in CryoSleep: \", train_x['CryoSleep'].isnull().sum(), f\"({train_x['CryoSleep'].isnull().sum()/len(train_x)*100:.2f}%)\")"
   ]
  },
  {
   "cell_type": "markdown",
   "metadata": {},
   "source": [
    "Similar than with the HomePlanet, we have ~2.5% of empty values.\n",
    "\n",
    "In this case, we have the statement where if a passenger is in cryosleep, he is confined inside his cabin, so he won't spend any money on services, that means that variables RoomService, FoodCourt, ShoppingMall, Spa and VRDeck will be all 0.\n",
    "\n",
    "To confirm this, lets check:\n",
    "* When CryoSleep == True, sum(RoomService, FoodCourt, ShoppingMall, Spa and VRDeck) == 0.0\n",
    "* When CryoSleep == False, sum(RoomService, FoodCourt, ShoppingMall, Spa and VRDeck) > 0.0\n",
    "\n",
    "To do this check I will exclude samples with any of this fields empty."
   ]
  },
  {
   "cell_type": "code",
   "execution_count": 13,
   "metadata": {},
   "outputs": [
    {
     "name": "stdout",
     "output_type": "stream",
     "text": [
      "CryoSleep == True and all services == 0.0:\n",
      "True\n",
      "Number of samples: 2690\n",
      "\n",
      "CryoSleep == False and sum of services > 0.0:\n",
      "False\n",
      "Number of samples: 4902\n",
      "\n",
      "Rows where CryoSleep == False and sum of services == 0.0:\n",
      "     PassengerId HomePlanet CryoSleep     Cabin  Destination   Age    VIP  \\\n",
      "0        0001_01     Europa     False     B/0/P  TRAPPIST-1e  39.0  False   \n",
      "19       0017_01      Earth     False     G/0/P  TRAPPIST-1e   0.0  False   \n",
      "24       0020_04      Earth     False     E/0/S  TRAPPIST-1e  10.0  False   \n",
      "26       0020_06      Earth     False     E/0/S  TRAPPIST-1e   7.0  False   \n",
      "34       0031_02       Mars     False     F/9/P  TRAPPIST-1e   2.0  False   \n",
      "...          ...        ...       ...       ...          ...   ...    ...   \n",
      "8577     9157_06      Earth     False  G/1476/S  TRAPPIST-1e  12.0  False   \n",
      "8637     9219_01      Earth     False  G/1487/S  55 Cancri e   9.0  False   \n",
      "8654     9231_02       Mars     False  F/1888/P  TRAPPIST-1e   0.0  False   \n",
      "8655     9231_03       Mars     False   E/592/P  TRAPPIST-1e  22.0  False   \n",
      "8685     9275_01     Europa     False    A/97/P  TRAPPIST-1e   0.0  False   \n",
      "\n",
      "      RoomService  FoodCourt  ShoppingMall  Spa  VRDeck                Name  \\\n",
      "0             0.0        0.0           0.0  0.0     0.0     Maham Ofracculy   \n",
      "19            0.0        0.0           0.0  0.0     0.0       Lyde Brighttt   \n",
      "24            0.0        0.0           0.0  0.0     0.0  Breney Jacostanley   \n",
      "26            0.0        0.0           0.0  0.0     0.0   Terta Mcfaddennon   \n",
      "34            0.0        0.0           0.0  0.0     0.0        Cinets Datie   \n",
      "...           ...        ...           ...  ...     ...                 ...   \n",
      "8577          0.0        0.0           0.0  0.0     0.0      Pamont Navages   \n",
      "8637          0.0        0.0           0.0  0.0     0.0    Daley Workmanson   \n",
      "8654          0.0        0.0           0.0  0.0     0.0          Walls Paie   \n",
      "8655          0.0        0.0           0.0  0.0     0.0            Cus Paie   \n",
      "8685          0.0        0.0           0.0  0.0     0.0     Polaton Conable   \n",
      "\n",
      "     Group  numMembers  isHomeEarth  isHomeEuropa  \n",
      "0     0001           1            0             1  \n",
      "19    0017           2            1             0  \n",
      "24    0020           6            1             0  \n",
      "26    0020           6            1             0  \n",
      "34    0031           3            0             0  \n",
      "...    ...         ...          ...           ...  \n",
      "8577  9157           7            1             0  \n",
      "8637  9219           2            1             0  \n",
      "8654  9231           3            0             0  \n",
      "8655  9231           3            0             0  \n",
      "8685  9275           3            0             1  \n",
      "\n",
      "[470 rows x 17 columns]\n"
     ]
    }
   ],
   "source": [
    "# Exclude samples with any of the relevant fields empty\n",
    "filtered_df = train_x.dropna(subset=['CryoSleep', 'RoomService', 'FoodCourt', 'ShoppingMall', 'Spa', 'VRDeck'])\n",
    "\n",
    "# Check the conditions\n",
    "cryosleep_true = filtered_df[filtered_df['CryoSleep'] == True]\n",
    "cryosleep_false = filtered_df[filtered_df['CryoSleep'] == False]\n",
    "\n",
    "cryosleep_true_condition = cryosleep_true[['RoomService', 'FoodCourt', 'ShoppingMall', 'Spa', 'VRDeck']].sum(axis=1).eq(0.0)\n",
    "cryosleep_false_condition = cryosleep_false[['RoomService', 'FoodCourt', 'ShoppingMall', 'Spa', 'VRDeck']].sum(axis=1).gt(0.0)\n",
    "\n",
    "# Print the results\n",
    "print(\"CryoSleep == True and all services == 0.0:\")\n",
    "print(cryosleep_true_condition.all())\n",
    "print(f\"Number of samples: {len(cryosleep_true)}\")\n",
    "if not cryosleep_true_condition.all():\n",
    "    print(\"\\nRows where CryoSleep == True and all services != 0.0:\")\n",
    "    print(cryosleep_true[~cryosleep_true_condition])\n",
    "\n",
    "print(\"\\nCryoSleep == False and sum of services > 0.0:\")\n",
    "print(cryosleep_false_condition.all())\n",
    "print(f\"Number of samples: {len(cryosleep_false)}\")\n",
    "if not cryosleep_false_condition.all():\n",
    "    print(\"\\nRows where CryoSleep == False and sum of services == 0.0:\")\n",
    "    print(cryosleep_false[~cryosleep_false_condition])"
   ]
  },
  {
   "cell_type": "markdown",
   "metadata": {},
   "source": [
    "Well, with the obtained results we can assume that if a passenger has spent something, he is not on cryosleep, however we CANNOT assume that if a passenger didn't spend anything, he is on cryosleep.\n",
    "\n",
    "So let's do a recap, taking into account the distribution (~62.5% False -- ~35% True), the most probable is that inside that ~2.5% of empty values this distribution also apply, so let's apply the rule where if a passenger has spent something, he is not on cryosleep and see the new distribution to evaluate the next steps."
   ]
  },
  {
   "cell_type": "code",
   "execution_count": 14,
   "metadata": {},
   "outputs": [
    {
     "name": "stdout",
     "output_type": "stream",
     "text": [
      "CryoSleep distribution (counts):\n",
      "CryoSleep\n",
      "False    5558\n",
      "True     3037\n",
      "NaN        98\n",
      "Name: count, dtype: int64\n",
      "\\CryoSleep distribution (percentages):\n",
      "CryoSleep\n",
      "False    63.94\n",
      "True     34.94\n",
      "NaN       1.13\n",
      "Name: proportion, dtype: float64\n",
      "Missing values in CryoSleep:  98 (1.13%)\n"
     ]
    }
   ],
   "source": [
    "# When 'CryoSleep' is nan, if a passenger has spent something on 'RoomService', 'FoodCourt', 'ShoppingMall', 'Spa' or 'VRDeck', he is not on cryosleep, so we can fill 'CryoSleep' as False\n",
    "train_x.loc[train_x['CryoSleep'].isnull() & (train_x[['RoomService', 'FoodCourt', 'ShoppingMall', 'Spa', 'VRDeck']].sum(axis=1) > 0.0), 'CryoSleep'] = False\n",
    "test_x.loc[test_x['CryoSleep'].isnull() & (test_x[['RoomService', 'FoodCourt', 'ShoppingMall', 'Spa', 'VRDeck']].sum(axis=1) > 0.0), 'CryoSleep'] = False\n",
    "\n",
    "# Print the updated distribution of CryoSleep\n",
    "cryosleep_distribution = train_x['CryoSleep'].value_counts(dropna=False)\n",
    "cryosleep_percentages = (train_x['CryoSleep'].value_counts(normalize=True, dropna=False) * 100).round(2)\n",
    "\n",
    "print(\"CryoSleep distribution (counts):\")\n",
    "print(cryosleep_distribution)\n",
    "print(\"\\CryoSleep distribution (percentages):\")\n",
    "print(cryosleep_percentages)\n",
    "\n",
    "print(\"Missing values in CryoSleep: \", train_x['CryoSleep'].isnull().sum(), f\"({train_x['CryoSleep'].isnull().sum()/len(train_x)*100:.2f}%)\")"
   ]
  },
  {
   "cell_type": "markdown",
   "metadata": {},
   "source": [
    "We had 217 NaN values and now we have only 98, meaning that from that set of 217 samples, the ~55% of the samples are not CryoSleep and the remain percentage is still unknown, taking into account that approx. the ~62% of the samples inside a set are not CryoSleep, there is still a ~7% of the samples that can not be CryoSleep, this means that there are ~15 samples that are not CryoSleep, but didn't spend a penny. In total percentages this means that from the 8693 samples that the training set has, a ~0.18% of them will have this field wrong. So we can take the risk of assign CryoSleep == True to the rest of NaN values."
   ]
  },
  {
   "cell_type": "code",
   "execution_count": 15,
   "metadata": {},
   "outputs": [
    {
     "name": "stdout",
     "output_type": "stream",
     "text": [
      "Missing values in CryoSleep after filling with True:\n",
      "train_x: 0\n",
      "test_x: 0\n"
     ]
    },
    {
     "name": "stderr",
     "output_type": "stream",
     "text": [
      "C:\\Users\\javie\\AppData\\Local\\Temp\\ipykernel_12276\\1317489753.py:2: FutureWarning: Downcasting object dtype arrays on .fillna, .ffill, .bfill is deprecated and will change in a future version. Call result.infer_objects(copy=False) instead. To opt-in to the future behavior, set `pd.set_option('future.no_silent_downcasting', True)`\n",
      "  train_x['CryoSleep'] = train_x['CryoSleep'].fillna(True)\n",
      "C:\\Users\\javie\\AppData\\Local\\Temp\\ipykernel_12276\\1317489753.py:3: FutureWarning: Downcasting object dtype arrays on .fillna, .ffill, .bfill is deprecated and will change in a future version. Call result.infer_objects(copy=False) instead. To opt-in to the future behavior, set `pd.set_option('future.no_silent_downcasting', True)`\n",
      "  test_x['CryoSleep'] = test_x['CryoSleep'].fillna(True)\n"
     ]
    }
   ],
   "source": [
    "# Fill NaN values in the CryoSleep column with True\n",
    "train_x['CryoSleep'] = train_x['CryoSleep'].fillna(True)\n",
    "test_x['CryoSleep'] = test_x['CryoSleep'].fillna(True)\n",
    "\n",
    "# Verify if there are still missing values in CryoSleep\n",
    "print(\"Missing values in CryoSleep after filling with True:\")\n",
    "print(f\"train_x: {train_x['CryoSleep'].isnull().sum()}\")\n",
    "print(f\"test_x: {test_x['CryoSleep'].isnull().sum()}\")"
   ]
  },
  {
   "cell_type": "markdown",
   "metadata": {},
   "source": [
    "Finally, let's cast the boolean values into integers."
   ]
  },
  {
   "cell_type": "code",
   "execution_count": 16,
   "metadata": {},
   "outputs": [
    {
     "data": {
      "text/html": [
       "<div>\n",
       "<style scoped>\n",
       "    .dataframe tbody tr th:only-of-type {\n",
       "        vertical-align: middle;\n",
       "    }\n",
       "\n",
       "    .dataframe tbody tr th {\n",
       "        vertical-align: top;\n",
       "    }\n",
       "\n",
       "    .dataframe thead th {\n",
       "        text-align: right;\n",
       "    }\n",
       "</style>\n",
       "<table border=\"1\" class=\"dataframe\">\n",
       "  <thead>\n",
       "    <tr style=\"text-align: right;\">\n",
       "      <th></th>\n",
       "      <th>PassengerId</th>\n",
       "      <th>HomePlanet</th>\n",
       "      <th>CryoSleep</th>\n",
       "      <th>Cabin</th>\n",
       "      <th>Destination</th>\n",
       "      <th>Age</th>\n",
       "      <th>VIP</th>\n",
       "      <th>RoomService</th>\n",
       "      <th>FoodCourt</th>\n",
       "      <th>ShoppingMall</th>\n",
       "      <th>Spa</th>\n",
       "      <th>VRDeck</th>\n",
       "      <th>Name</th>\n",
       "      <th>Group</th>\n",
       "      <th>numMembers</th>\n",
       "      <th>isHomeEarth</th>\n",
       "      <th>isHomeEuropa</th>\n",
       "    </tr>\n",
       "  </thead>\n",
       "  <tbody>\n",
       "    <tr>\n",
       "      <th>0</th>\n",
       "      <td>0001_01</td>\n",
       "      <td>Europa</td>\n",
       "      <td>0</td>\n",
       "      <td>B/0/P</td>\n",
       "      <td>TRAPPIST-1e</td>\n",
       "      <td>39.0</td>\n",
       "      <td>False</td>\n",
       "      <td>0.0</td>\n",
       "      <td>0.0</td>\n",
       "      <td>0.0</td>\n",
       "      <td>0.0</td>\n",
       "      <td>0.0</td>\n",
       "      <td>Maham Ofracculy</td>\n",
       "      <td>0001</td>\n",
       "      <td>1</td>\n",
       "      <td>0</td>\n",
       "      <td>1</td>\n",
       "    </tr>\n",
       "    <tr>\n",
       "      <th>1</th>\n",
       "      <td>0002_01</td>\n",
       "      <td>Earth</td>\n",
       "      <td>0</td>\n",
       "      <td>F/0/S</td>\n",
       "      <td>TRAPPIST-1e</td>\n",
       "      <td>24.0</td>\n",
       "      <td>False</td>\n",
       "      <td>109.0</td>\n",
       "      <td>9.0</td>\n",
       "      <td>25.0</td>\n",
       "      <td>549.0</td>\n",
       "      <td>44.0</td>\n",
       "      <td>Juanna Vines</td>\n",
       "      <td>0002</td>\n",
       "      <td>1</td>\n",
       "      <td>1</td>\n",
       "      <td>0</td>\n",
       "    </tr>\n",
       "    <tr>\n",
       "      <th>2</th>\n",
       "      <td>0003_01</td>\n",
       "      <td>Europa</td>\n",
       "      <td>0</td>\n",
       "      <td>A/0/S</td>\n",
       "      <td>TRAPPIST-1e</td>\n",
       "      <td>58.0</td>\n",
       "      <td>True</td>\n",
       "      <td>43.0</td>\n",
       "      <td>3576.0</td>\n",
       "      <td>0.0</td>\n",
       "      <td>6715.0</td>\n",
       "      <td>49.0</td>\n",
       "      <td>Altark Susent</td>\n",
       "      <td>0003</td>\n",
       "      <td>2</td>\n",
       "      <td>0</td>\n",
       "      <td>1</td>\n",
       "    </tr>\n",
       "    <tr>\n",
       "      <th>3</th>\n",
       "      <td>0003_02</td>\n",
       "      <td>Europa</td>\n",
       "      <td>0</td>\n",
       "      <td>A/0/S</td>\n",
       "      <td>TRAPPIST-1e</td>\n",
       "      <td>33.0</td>\n",
       "      <td>False</td>\n",
       "      <td>0.0</td>\n",
       "      <td>1283.0</td>\n",
       "      <td>371.0</td>\n",
       "      <td>3329.0</td>\n",
       "      <td>193.0</td>\n",
       "      <td>Solam Susent</td>\n",
       "      <td>0003</td>\n",
       "      <td>2</td>\n",
       "      <td>0</td>\n",
       "      <td>1</td>\n",
       "    </tr>\n",
       "    <tr>\n",
       "      <th>4</th>\n",
       "      <td>0004_01</td>\n",
       "      <td>Earth</td>\n",
       "      <td>0</td>\n",
       "      <td>F/1/S</td>\n",
       "      <td>TRAPPIST-1e</td>\n",
       "      <td>16.0</td>\n",
       "      <td>False</td>\n",
       "      <td>303.0</td>\n",
       "      <td>70.0</td>\n",
       "      <td>151.0</td>\n",
       "      <td>565.0</td>\n",
       "      <td>2.0</td>\n",
       "      <td>Willy Santantines</td>\n",
       "      <td>0004</td>\n",
       "      <td>1</td>\n",
       "      <td>1</td>\n",
       "      <td>0</td>\n",
       "    </tr>\n",
       "  </tbody>\n",
       "</table>\n",
       "</div>"
      ],
      "text/plain": [
       "  PassengerId HomePlanet  CryoSleep  Cabin  Destination   Age    VIP  \\\n",
       "0     0001_01     Europa          0  B/0/P  TRAPPIST-1e  39.0  False   \n",
       "1     0002_01      Earth          0  F/0/S  TRAPPIST-1e  24.0  False   \n",
       "2     0003_01     Europa          0  A/0/S  TRAPPIST-1e  58.0   True   \n",
       "3     0003_02     Europa          0  A/0/S  TRAPPIST-1e  33.0  False   \n",
       "4     0004_01      Earth          0  F/1/S  TRAPPIST-1e  16.0  False   \n",
       "\n",
       "   RoomService  FoodCourt  ShoppingMall     Spa  VRDeck               Name  \\\n",
       "0          0.0        0.0           0.0     0.0     0.0    Maham Ofracculy   \n",
       "1        109.0        9.0          25.0   549.0    44.0       Juanna Vines   \n",
       "2         43.0     3576.0           0.0  6715.0    49.0      Altark Susent   \n",
       "3          0.0     1283.0         371.0  3329.0   193.0       Solam Susent   \n",
       "4        303.0       70.0         151.0   565.0     2.0  Willy Santantines   \n",
       "\n",
       "  Group  numMembers  isHomeEarth  isHomeEuropa  \n",
       "0  0001           1            0             1  \n",
       "1  0002           1            1             0  \n",
       "2  0003           2            0             1  \n",
       "3  0003           2            0             1  \n",
       "4  0004           1            1             0  "
      ]
     },
     "execution_count": 16,
     "metadata": {},
     "output_type": "execute_result"
    }
   ],
   "source": [
    "train_x['CryoSleep'] = train_x['CryoSleep'].astype(int)\n",
    "test_x['CryoSleep'] = test_x['CryoSleep'].astype(int)\n",
    "\n",
    "train_x.head()"
   ]
  },
  {
   "cell_type": "markdown",
   "metadata": {},
   "source": [
    "### Cabin\n",
    "The cabin number where the passenger is staying. Takes the form deck/num/side, where side can be either P for Port or S for Starboard. So first let's separate each value and save them in different columns, but even before that, let's see if multiple passengers can stare in the same cabin."
   ]
  },
  {
   "cell_type": "code",
   "execution_count": 17,
   "metadata": {},
   "outputs": [
    {
     "name": "stdout",
     "output_type": "stream",
     "text": [
      "Number of unique values in Cabin: 6560\n",
      "Number of total values in Cabin: 8693\n",
      "Most common Cabin value: G/734/S\n",
      "Count of most common Cabin value: 8\n"
     ]
    }
   ],
   "source": [
    "# Number of unique values in Cabin\n",
    "print(\"Number of unique values in Cabin:\", train_x['Cabin'].nunique()) # Not counting NaN values\n",
    "print(\"Number of total values in Cabin:\", len(train_x['Cabin']))\n",
    "\n",
    "# Print the Cabin value with the most occurrences and its count\n",
    "most_common_cabin = train_x['Cabin'].mode()[0]\n",
    "print(\"Most common Cabin value:\", most_common_cabin)\n",
    "print(\"Count of most common Cabin value:\", train_x['Cabin'].value_counts().max())"
   ]
  },
  {
   "cell_type": "markdown",
   "metadata": {},
   "source": [
    "That means that several passenger can be found in the same cabin. Let's now see the number of missing values, because maybe we can restore them based on the Group of the passenger."
   ]
  },
  {
   "cell_type": "code",
   "execution_count": 18,
   "metadata": {},
   "outputs": [
    {
     "name": "stdout",
     "output_type": "stream",
     "text": [
      "Missing values in Cabin: 199 (2.29%)\n"
     ]
    }
   ],
   "source": [
    "# Print the number of missing values in Cabin\n",
    "print(\"Missing values in Cabin:\", train_x['Cabin'].isnull().sum(), f\"({train_x['Cabin'].isnull().sum()/len(train_x)*100:.2f}%)\")"
   ]
  },
  {
   "cell_type": "code",
   "execution_count": 19,
   "metadata": {},
   "outputs": [
    {
     "name": "stdout",
     "output_type": "stream",
     "text": [
      "Some groups have inconsistent Cabin:\n",
      "Group\n",
      "0006    2\n",
      "0017    2\n",
      "0064    2\n",
      "0067    2\n",
      "0091    2\n",
      "       ..\n",
      "9208    2\n",
      "9219    2\n",
      "9220    2\n",
      "9231    2\n",
      "9272    2\n",
      "Name: Cabin, Length: 421, dtype: int64\n"
     ]
    }
   ],
   "source": [
    "# Check if all members of the same Group have the same Cabin\n",
    "group_destination_check = train_x.groupby('Group')['Cabin'].nunique()\n",
    "\n",
    "# Find groups with more than one unique Cabin\n",
    "inconsistent_groups = group_destination_check[group_destination_check > 1]\n",
    "\n",
    "# Print the result\n",
    "if inconsistent_groups.empty:\n",
    "    print(\"All members of the same group have the same Cabin.\")\n",
    "else:\n",
    "    print(\"Some groups have inconsistent Cabin:\")\n",
    "    print(inconsistent_groups)"
   ]
  },
  {
   "cell_type": "markdown",
   "metadata": {},
   "source": [
    "So it's not secured that members of the same group travel in the same cabin. So let's now split the Cabin string into their values."
   ]
  },
  {
   "cell_type": "code",
   "execution_count": 20,
   "metadata": {},
   "outputs": [
    {
     "data": {
      "text/html": [
       "<div>\n",
       "<style scoped>\n",
       "    .dataframe tbody tr th:only-of-type {\n",
       "        vertical-align: middle;\n",
       "    }\n",
       "\n",
       "    .dataframe tbody tr th {\n",
       "        vertical-align: top;\n",
       "    }\n",
       "\n",
       "    .dataframe thead th {\n",
       "        text-align: right;\n",
       "    }\n",
       "</style>\n",
       "<table border=\"1\" class=\"dataframe\">\n",
       "  <thead>\n",
       "    <tr style=\"text-align: right;\">\n",
       "      <th></th>\n",
       "      <th>Cabin</th>\n",
       "      <th>CabinDeck</th>\n",
       "      <th>CabinNum</th>\n",
       "      <th>CabinSide</th>\n",
       "    </tr>\n",
       "  </thead>\n",
       "  <tbody>\n",
       "    <tr>\n",
       "      <th>0</th>\n",
       "      <td>B/0/P</td>\n",
       "      <td>B</td>\n",
       "      <td>0</td>\n",
       "      <td>P</td>\n",
       "    </tr>\n",
       "    <tr>\n",
       "      <th>1</th>\n",
       "      <td>F/0/S</td>\n",
       "      <td>F</td>\n",
       "      <td>0</td>\n",
       "      <td>S</td>\n",
       "    </tr>\n",
       "    <tr>\n",
       "      <th>2</th>\n",
       "      <td>A/0/S</td>\n",
       "      <td>A</td>\n",
       "      <td>0</td>\n",
       "      <td>S</td>\n",
       "    </tr>\n",
       "    <tr>\n",
       "      <th>3</th>\n",
       "      <td>A/0/S</td>\n",
       "      <td>A</td>\n",
       "      <td>0</td>\n",
       "      <td>S</td>\n",
       "    </tr>\n",
       "    <tr>\n",
       "      <th>4</th>\n",
       "      <td>F/1/S</td>\n",
       "      <td>F</td>\n",
       "      <td>1</td>\n",
       "      <td>S</td>\n",
       "    </tr>\n",
       "  </tbody>\n",
       "</table>\n",
       "</div>"
      ],
      "text/plain": [
       "   Cabin CabinDeck  CabinNum CabinSide\n",
       "0  B/0/P         B         0         P\n",
       "1  F/0/S         F         0         S\n",
       "2  A/0/S         A         0         S\n",
       "3  A/0/S         A         0         S\n",
       "4  F/1/S         F         1         S"
      ]
     },
     "execution_count": 20,
     "metadata": {},
     "output_type": "execute_result"
    }
   ],
   "source": [
    "# Split the Cabin column into deck, num, and side\n",
    "train_x[['CabinDeck', 'CabinNum', 'CabinSide']] = train_x['Cabin'].str.split('/', expand=True)\n",
    "test_x[['CabinDeck', 'CabinNum', 'CabinSide']] = test_x['Cabin'].str.split('/', expand=True)\n",
    "\n",
    "# Convert CabinNum to numeric for potential numerical analysis\n",
    "train_x['CabinNum'] = pd.to_numeric(train_x['CabinNum'], errors='coerce').astype('Int64')\n",
    "test_x['CabinNum'] = pd.to_numeric(test_x['CabinNum'], errors='coerce').astype('Int64')\n",
    "\n",
    "# Display the updated train_x dataframe\n",
    "train_x[['Cabin', 'CabinDeck', 'CabinNum', 'CabinSide']].head()"
   ]
  },
  {
   "cell_type": "markdown",
   "metadata": {},
   "source": [
    "With the data divided in deck/num/side, let's now see the distribution and the nan values."
   ]
  },
  {
   "cell_type": "code",
   "execution_count": 21,
   "metadata": {},
   "outputs": [
    {
     "name": "stdout",
     "output_type": "stream",
     "text": [
      "Distribution for CabinDeck:\n",
      "CabinDeck\n",
      "F      2794\n",
      "G      2559\n",
      "E       876\n",
      "B       779\n",
      "C       747\n",
      "D       478\n",
      "A       256\n",
      "NaN     199\n",
      "T         5\n",
      "Name: count, dtype: int64\n",
      "\n",
      "Missing values in CabinDeck: 199 (2.29%)\n",
      "\n",
      "Distribution for CabinNum:\n",
      "CabinNum\n",
      "<NA>    199\n",
      "82       28\n",
      "86       22\n",
      "19       22\n",
      "56       21\n",
      "       ... \n",
      "1830      1\n",
      "1832      1\n",
      "1723      1\n",
      "1821      1\n",
      "1822      1\n",
      "Name: count, Length: 1818, dtype: Int64\n",
      "\n",
      "Missing values in CabinNum: 199 (2.29%)\n",
      "\n",
      "Distribution for CabinSide:\n",
      "CabinSide\n",
      "S      4288\n",
      "P      4206\n",
      "NaN     199\n",
      "Name: count, dtype: int64\n",
      "\n",
      "Missing values in CabinSide: 199 (2.29%)\n",
      "\n"
     ]
    }
   ],
   "source": [
    "# Check the distribution and missing values for CabinDeck, CabinNum, and CabinSide\n",
    "for column in ['CabinDeck', 'CabinNum', 'CabinSide']:\n",
    "    print(f\"Distribution for {column}:\")\n",
    "    print(train_x[column].value_counts(dropna=False))\n",
    "    print(f\"\\nMissing values in {column}: {train_x[column].isnull().sum()} ({train_x[column].isnull().mean() * 100:.2f}%)\\n\")"
   ]
  },
  {
   "cell_type": "code",
   "execution_count": 22,
   "metadata": {},
   "outputs": [
    {
     "name": "stdout",
     "output_type": "stream",
     "text": [
      "Distribution for CabinSide = S:\n",
      "\n",
      "CabinDeck distribution:\n",
      "CabinDeck\n",
      "F    1356\n",
      "G    1283\n",
      "E     447\n",
      "B     426\n",
      "C     406\n",
      "D     230\n",
      "A     139\n",
      "T       1\n",
      "Name: count, dtype: int64\n",
      "\n",
      "Distribution for CabinSide = P:\n",
      "\n",
      "CabinDeck distribution:\n",
      "CabinDeck\n",
      "F    1438\n",
      "G    1276\n",
      "E     429\n",
      "B     353\n",
      "C     341\n",
      "D     248\n",
      "A     117\n",
      "T       4\n",
      "Name: count, dtype: int64\n",
      "\n"
     ]
    }
   ],
   "source": [
    "# Distribution of CabinDeck based on CabinSide\n",
    "for side in ['S', 'P']:\n",
    "    print(f\"Distribution for CabinSide = {side}:\\n\")\n",
    "    \n",
    "    # CabinDeck distribution\n",
    "    cabin_deck_distribution = train_x[train_x['CabinSide'] == side]['CabinDeck'].value_counts(dropna=False)\n",
    "    print(f\"CabinDeck distribution:\\n{cabin_deck_distribution}\\n\")"
   ]
  },
  {
   "cell_type": "code",
   "execution_count": 23,
   "metadata": {},
   "outputs": [
    {
     "name": "stdout",
     "output_type": "stream",
     "text": [
      "Distribution for CryoSleep = True:\n",
      "\n",
      "           Count  Percentage  Percentage of Total CabinDeck\n",
      "CabinDeck                                                  \n",
      "G           1393       44.43                          54.44\n",
      "F            569       18.15                          20.37\n",
      "B            428       13.65                          54.94\n",
      "C            306        9.76                          40.96\n",
      "E            176        5.61                          20.09\n",
      "D            106        3.38                          22.18\n",
      "NaN           86        2.74                          43.22\n",
      "A             71        2.26                          27.73\n",
      "Distribution for CryoSleep = False:\n",
      "\n",
      "           Count  Percentage  Percentage of Total CabinDeck\n",
      "CabinDeck                                                  \n",
      "F           2225       40.03                          79.63\n",
      "G           1166       20.98                          45.56\n",
      "E            700       12.59                          79.91\n",
      "C            441        7.93                          59.04\n",
      "D            372        6.69                          77.82\n",
      "B            351        6.32                          45.06\n",
      "A            185        3.33                          72.27\n",
      "NaN          113        2.03                          56.78\n",
      "T              5        0.09                         100.00\n"
     ]
    }
   ],
   "source": [
    "# Distribution of CabinNum based on CryoSleep\n",
    "for side in [True, False]:\n",
    "    print(f\"Distribution for CryoSleep = {side}:\\n\")\n",
    "    \n",
    "    # CabinDeck distribution\n",
    "    cabin_deck_distribution = train_x[train_x['CryoSleep'] == side]['CabinDeck'].value_counts(dropna=False)\n",
    "    cabin_deck_percentages = (cabin_deck_distribution / cabin_deck_distribution.sum() * 100).round(2)\n",
    "    \n",
    "    # Combine counts and percentages into a DataFrame\n",
    "    cabin_deck_distribution_df = pd.DataFrame({\n",
    "        'Count': cabin_deck_distribution,\n",
    "        'Percentage': cabin_deck_percentages\n",
    "    })\n",
    "    \n",
    "    # Calculate percentage relative to total passengers in each CabinDeck\n",
    "    total_cabin_deck_counts = train_x['CabinDeck'].value_counts(dropna=False)\n",
    "    cabin_deck_distribution_df['Percentage of Total CabinDeck'] = (\n",
    "        cabin_deck_distribution / total_cabin_deck_counts * 100\n",
    "    ).round(2)\n",
    "    \n",
    "    print(cabin_deck_distribution_df)"
   ]
  },
  {
   "cell_type": "code",
   "execution_count": 24,
   "metadata": {},
   "outputs": [
    {
     "name": "stdout",
     "output_type": "stream",
     "text": [
      "\n",
      "Probability of being transported based on CabinSide:\n",
      "Transported         0         1\n",
      "CabinSide                      \n",
      "P            0.548740  0.451260\n",
      "S            0.444963  0.555037\n"
     ]
    }
   ],
   "source": [
    "# Check if the probability of being transported is biased on CabinSide\n",
    "aux_df = train_x.copy()\n",
    "aux_df['Transported'] = train_y\n",
    "\n",
    "cabin_side_distribution = aux_df.groupby('CabinSide')['Transported'].value_counts(normalize=True).unstack()\n",
    "\n",
    "print(\"\\nProbability of being transported based on CabinSide:\")\n",
    "print(cabin_side_distribution)"
   ]
  },
  {
   "cell_type": "code",
   "execution_count": 25,
   "metadata": {},
   "outputs": [
    {
     "name": "stdout",
     "output_type": "stream",
     "text": [
      "\n",
      "Probability of being transported based on CabinDeck:\n",
      "Transported         0         1\n",
      "CabinDeck                      \n",
      "A            0.503906  0.496094\n",
      "B            0.265725  0.734275\n",
      "C            0.319946  0.680054\n",
      "D            0.566946  0.433054\n",
      "E            0.642694  0.357306\n",
      "F            0.560129  0.439871\n",
      "G            0.483783  0.516217\n",
      "T            0.800000  0.200000\n"
     ]
    }
   ],
   "source": [
    "# Check if the probability of being transported is biased on CabinDeck\n",
    "aux_df = train_x.copy()\n",
    "aux_df['Transported'] = train_y\n",
    "\n",
    "cabin_side_distribution = aux_df.groupby('CabinDeck')['Transported'].value_counts(normalize=True).unstack()\n",
    "\n",
    "print(\"\\nProbability of being transported based on CabinDeck:\")\n",
    "print(cabin_side_distribution)"
   ]
  },
  {
   "cell_type": "markdown",
   "metadata": {},
   "source": [
    "Seeing the results we can observe that the same decks exists on both sides, so we are not obtaining any information from that. As I see it, the CabinDeck and CabinNum don't give us any useful information and are categorical variants with lots of different values, so in order to not increase exponentially the complexity of the problem, I will remove them. On the other side, the CabinSide consist in only two different values that we can encode into a single boolean variant, however, it seems that it also doesn't give us any useful or discriminatory information, so we will remove all these features."
   ]
  },
  {
   "cell_type": "markdown",
   "metadata": {},
   "source": [
    "### Destination \n",
    "The planet the passenger will be debarking to.\n",
    "\n",
    "Similar to the HomePlanet, this is a categorical value, so let's again see the class distribution and the number of unique values that exists."
   ]
  },
  {
   "cell_type": "code",
   "execution_count": 26,
   "metadata": {},
   "outputs": [
    {
     "name": "stdout",
     "output_type": "stream",
     "text": [
      "Destination unique values:  ['TRAPPIST-1e' 'PSO J318.5-22' '55 Cancri e' nan]\n",
      "Missing values in Destination:  182 (2.09%)\n"
     ]
    }
   ],
   "source": [
    "# First I check how many different values we have in this variant (Destination)\n",
    "print(\"Destination unique values: \", train_x['Destination'].unique())\n",
    "\n",
    "# And also if there are any missing values and how many\n",
    "print(\"Missing values in Destination: \", train_x['Destination'].isnull().sum(), f\"({train_x['Destination'].isnull().sum()/len(train_x)*100:.2f}%)\")"
   ]
  },
  {
   "cell_type": "markdown",
   "metadata": {},
   "source": [
    "First of all, let's solve the issue with the missing values, we can assume that members of the same group have the same destination, so the first approach will be to assign the existing value of one member of the group to other members that have a null value in the Destination variable."
   ]
  },
  {
   "cell_type": "code",
   "execution_count": 27,
   "metadata": {},
   "outputs": [
    {
     "name": "stdout",
     "output_type": "stream",
     "text": [
      "Some groups have inconsistent Destinations:\n",
      "Group\n",
      "0008    2\n",
      "0017    2\n",
      "0020    3\n",
      "0044    3\n",
      "0067    3\n",
      "       ..\n",
      "9219    2\n",
      "9220    2\n",
      "9227    2\n",
      "9231    2\n",
      "9280    2\n",
      "Name: Destination, Length: 717, dtype: int64\n"
     ]
    }
   ],
   "source": [
    "# Check if all members of the same group have the same Destination\n",
    "group_destination_check = train_x.groupby('Group')['Destination'].nunique()\n",
    "\n",
    "# Find groups with more than one unique Destination\n",
    "inconsistent_groups = group_destination_check[group_destination_check > 1]\n",
    "\n",
    "# Print the result\n",
    "if inconsistent_groups.empty:\n",
    "    print(\"All members of the same group have the same Destination.\")\n",
    "else:\n",
    "    print(\"Some groups have inconsistent Destinations:\")\n",
    "    print(inconsistent_groups)"
   ]
  },
  {
   "cell_type": "markdown",
   "metadata": {},
   "source": [
    "Well, we can't follow this approach now, let's see the class distribution in more detail to see the frequency of each value."
   ]
  },
  {
   "cell_type": "code",
   "execution_count": 28,
   "metadata": {},
   "outputs": [
    {
     "name": "stdout",
     "output_type": "stream",
     "text": [
      "Destination distribution (counts):\n",
      "Destination\n",
      "TRAPPIST-1e      5915\n",
      "55 Cancri e      1800\n",
      "PSO J318.5-22     796\n",
      "NaN               182\n",
      "Name: count, dtype: int64\n",
      "\n",
      "Destination distribution (percentages):\n",
      "Destination\n",
      "TRAPPIST-1e      68.04\n",
      "55 Cancri e      20.71\n",
      "PSO J318.5-22     9.16\n",
      "NaN               2.09\n",
      "Name: proportion, dtype: float64\n"
     ]
    }
   ],
   "source": [
    "# Class distribution for the Destination column\n",
    "destination_distribution = train_x['Destination'].value_counts(dropna=False)\n",
    "destination_percentages = (train_x['Destination'].value_counts(normalize=True, dropna=False) * 100).round(2)\n",
    "\n",
    "print(\"Destination distribution (counts):\")\n",
    "print(destination_distribution)\n",
    "print(\"\\nDestination distribution (percentages):\")\n",
    "print(destination_percentages)"
   ]
  },
  {
   "cell_type": "markdown",
   "metadata": {},
   "source": [
    "Most of the passengers go to TRAPPIST-1e, I could simply give that Destination to all the empty values."
   ]
  },
  {
   "cell_type": "code",
   "execution_count": 29,
   "metadata": {},
   "outputs": [],
   "source": [
    "# Fill NaN values in Destination with 'TRAPPIST-1e'\n",
    "train_x['Destination'] = train_x['Destination'].fillna('TRAPPIST-1e')\n",
    "test_x['Destination'] = test_x['Destination'].fillna('TRAPPIST-1e')"
   ]
  },
  {
   "cell_type": "markdown",
   "metadata": {},
   "source": [
    "Now let's just do the one-hot encoding to pass this variable to two boolean features that tell if destination isTrappist or isCancri."
   ]
  },
  {
   "cell_type": "code",
   "execution_count": 30,
   "metadata": {},
   "outputs": [
    {
     "data": {
      "text/html": [
       "<div>\n",
       "<style scoped>\n",
       "    .dataframe tbody tr th:only-of-type {\n",
       "        vertical-align: middle;\n",
       "    }\n",
       "\n",
       "    .dataframe tbody tr th {\n",
       "        vertical-align: top;\n",
       "    }\n",
       "\n",
       "    .dataframe thead th {\n",
       "        text-align: right;\n",
       "    }\n",
       "</style>\n",
       "<table border=\"1\" class=\"dataframe\">\n",
       "  <thead>\n",
       "    <tr style=\"text-align: right;\">\n",
       "      <th></th>\n",
       "      <th>Destination</th>\n",
       "      <th>isTrappist</th>\n",
       "      <th>isCancri</th>\n",
       "    </tr>\n",
       "  </thead>\n",
       "  <tbody>\n",
       "    <tr>\n",
       "      <th>0</th>\n",
       "      <td>TRAPPIST-1e</td>\n",
       "      <td>1</td>\n",
       "      <td>0</td>\n",
       "    </tr>\n",
       "    <tr>\n",
       "      <th>1</th>\n",
       "      <td>TRAPPIST-1e</td>\n",
       "      <td>1</td>\n",
       "      <td>0</td>\n",
       "    </tr>\n",
       "    <tr>\n",
       "      <th>2</th>\n",
       "      <td>TRAPPIST-1e</td>\n",
       "      <td>1</td>\n",
       "      <td>0</td>\n",
       "    </tr>\n",
       "    <tr>\n",
       "      <th>3</th>\n",
       "      <td>TRAPPIST-1e</td>\n",
       "      <td>1</td>\n",
       "      <td>0</td>\n",
       "    </tr>\n",
       "    <tr>\n",
       "      <th>4</th>\n",
       "      <td>TRAPPIST-1e</td>\n",
       "      <td>1</td>\n",
       "      <td>0</td>\n",
       "    </tr>\n",
       "  </tbody>\n",
       "</table>\n",
       "</div>"
      ],
      "text/plain": [
       "   Destination  isTrappist  isCancri\n",
       "0  TRAPPIST-1e           1         0\n",
       "1  TRAPPIST-1e           1         0\n",
       "2  TRAPPIST-1e           1         0\n",
       "3  TRAPPIST-1e           1         0\n",
       "4  TRAPPIST-1e           1         0"
      ]
     },
     "execution_count": 30,
     "metadata": {},
     "output_type": "execute_result"
    }
   ],
   "source": [
    "# One-hot encoding for Destination\n",
    "train_x['isTrappist'] = (train_x['Destination'] == 'TRAPPIST-1e').astype(int)\n",
    "train_x['isCancri'] = (train_x['Destination'] == '55 Cancri e').astype(int)\n",
    "\n",
    "test_x['isTrappist'] = (test_x['Destination'] == 'TRAPPIST-1e').astype(int)\n",
    "test_x['isCancri'] = (test_x['Destination'] == '55 Cancri e').astype(int)\n",
    "\n",
    "# Verify the new columns\n",
    "train_x[['Destination', 'isTrappist', 'isCancri']].head()"
   ]
  },
  {
   "cell_type": "markdown",
   "metadata": {},
   "source": [
    "### Age \n",
    "The age of the passenger.\n",
    "\n",
    "This is a numerical variable that doesn't need to apply any encoding, let's see it distribution in detail and if there is any empty value."
   ]
  },
  {
   "cell_type": "code",
   "execution_count": 31,
   "metadata": {},
   "outputs": [
    {
     "name": "stdout",
     "output_type": "stream",
     "text": [
      "Age distribution:\n",
      "count    8514.000000\n",
      "mean       28.827930\n",
      "std        14.489021\n",
      "min         0.000000\n",
      "25%        19.000000\n",
      "50%        27.000000\n",
      "75%        38.000000\n",
      "max        79.000000\n",
      "Name: Age, dtype: float64\n",
      "\n",
      "Missing values in Age:\n",
      "train_x: 179 (2.06%)\n"
     ]
    }
   ],
   "source": [
    "# Check the distribution of Age\n",
    "age_distribution = train_x['Age'].describe()\n",
    "print(\"Age distribution:\")\n",
    "print(age_distribution)\n",
    "\n",
    "# Check for missing values in Age\n",
    "missing_age_train = train_x['Age'].isnull().sum()\n",
    "\n",
    "print(\"\\nMissing values in Age:\")\n",
    "print(f\"train_x: {missing_age_train} ({missing_age_train / len(train_x) * 100:.2f}%)\")"
   ]
  },
  {
   "cell_type": "markdown",
   "metadata": {},
   "source": [
    "Same as the other features, we have a ~2% of empty values, let's use the mean to fill the NaN values."
   ]
  },
  {
   "cell_type": "code",
   "execution_count": 32,
   "metadata": {},
   "outputs": [],
   "source": [
    "# Let's use the mean to fill the NaN values.\n",
    "train_x['Age'] = train_x['Age'].fillna(train_x['Age'].mean())\n",
    "test_x['Age'] = test_x['Age'].fillna(test_x['Age'].mean())"
   ]
  },
  {
   "cell_type": "markdown",
   "metadata": {},
   "source": [
    "### VIP \n",
    "Whether the passenger has paid for special VIP service during the voyage. This is a boolean feature. "
   ]
  },
  {
   "cell_type": "code",
   "execution_count": 33,
   "metadata": {},
   "outputs": [
    {
     "name": "stdout",
     "output_type": "stream",
     "text": [
      "VIP distribution (counts):\n",
      "VIP\n",
      "False    8291\n",
      "NaN       203\n",
      "True      199\n",
      "Name: count, dtype: int64\n",
      "\n",
      "VIP distribution (percentages):\n",
      "VIP\n",
      "False    95.38\n",
      "NaN       2.34\n",
      "True      2.29\n",
      "Name: proportion, dtype: float64\n",
      "Missing values in VIP:  203 (2.34%)\n"
     ]
    }
   ],
   "source": [
    "# Print the distribution of VIP\n",
    "VIP_distribution = train_x['VIP'].value_counts(dropna=False)\n",
    "VIP_percentages = (train_x['VIP'].value_counts(normalize=True, dropna=False) * 100).round(2)\n",
    "\n",
    "print(\"VIP distribution (counts):\")\n",
    "print(VIP_distribution)\n",
    "print(\"\\nVIP distribution (percentages):\")\n",
    "print(VIP_percentages)\n",
    "\n",
    "print(\"Missing values in VIP: \", train_x['VIP'].isnull().sum(), f\"({train_x['VIP'].isnull().sum()/len(train_x)*100:.2f}%)\")"
   ]
  },
  {
   "cell_type": "code",
   "execution_count": 34,
   "metadata": {},
   "outputs": [
    {
     "name": "stdout",
     "output_type": "stream",
     "text": [
      "VIP distribution when CryoSleep is True:\n",
      "VIP\n",
      "False    3035\n",
      "NaN        79\n",
      "True       21\n",
      "Name: count, dtype: int64\n",
      "VIP\n",
      "False    96.81\n",
      "NaN       2.52\n",
      "True      0.67\n",
      "Name: proportion, dtype: float64\n"
     ]
    }
   ],
   "source": [
    "# Filter passengers where CryoSleep is True\n",
    "cryo_sleep_true = train_x[train_x['CryoSleep'] == 1]\n",
    "\n",
    "# Calculate the VIP distribution for passengers in CryoSleep\n",
    "vip_distribution_cryo_sleep = cryo_sleep_true['VIP'].value_counts(dropna=False)\n",
    "vip_percentages_cryo_sleep = (cryo_sleep_true['VIP'].value_counts(normalize=True, dropna=False) * 100).round(2)\n",
    "\n",
    "# Print the distribution\n",
    "print(\"VIP distribution when CryoSleep is True:\")\n",
    "print(vip_distribution_cryo_sleep)\n",
    "print(vip_percentages_cryo_sleep)"
   ]
  },
  {
   "cell_type": "markdown",
   "metadata": {},
   "source": [
    "Taking into account that in a normal distribution only ~2.29% of the samples have VIP == True, that means that from our set of NaN values, we will only have 4 or 5 wrong values (Passenger with VIP == True where we set VIP == False), so I will set all empty VIP values to False."
   ]
  },
  {
   "cell_type": "code",
   "execution_count": 35,
   "metadata": {},
   "outputs": [
    {
     "name": "stdout",
     "output_type": "stream",
     "text": [
      "Missing values in VIP after filling with False:\n",
      "train_x: 0\n",
      "test_x: 0\n"
     ]
    },
    {
     "name": "stderr",
     "output_type": "stream",
     "text": [
      "C:\\Users\\javie\\AppData\\Local\\Temp\\ipykernel_12276\\2299933663.py:2: FutureWarning: Downcasting object dtype arrays on .fillna, .ffill, .bfill is deprecated and will change in a future version. Call result.infer_objects(copy=False) instead. To opt-in to the future behavior, set `pd.set_option('future.no_silent_downcasting', True)`\n",
      "  train_x['VIP'] = train_x['VIP'].fillna(False)\n",
      "C:\\Users\\javie\\AppData\\Local\\Temp\\ipykernel_12276\\2299933663.py:3: FutureWarning: Downcasting object dtype arrays on .fillna, .ffill, .bfill is deprecated and will change in a future version. Call result.infer_objects(copy=False) instead. To opt-in to the future behavior, set `pd.set_option('future.no_silent_downcasting', True)`\n",
      "  test_x['VIP'] = test_x['VIP'].fillna(False)\n"
     ]
    }
   ],
   "source": [
    "# Fill NaN values in the VIP column with False\n",
    "train_x['VIP'] = train_x['VIP'].fillna(False)\n",
    "test_x['VIP'] = test_x['VIP'].fillna(False)\n",
    "\n",
    "# Verify if there are still missing values in VIP\n",
    "print(\"Missing values in VIP after filling with False:\")\n",
    "print(f\"train_x: {train_x['VIP'].isnull().sum()}\")\n",
    "print(f\"test_x: {test_x['VIP'].isnull().sum()}\")"
   ]
  },
  {
   "cell_type": "markdown",
   "metadata": {},
   "source": [
    "### RoomService, FoodCourt, ShoppingMall, Spa, VRDeck \n",
    "Amount the passenger has billed at each of the Spaceship Titanic's many luxury amenities. \n",
    "\n",
    "These are all numerical features, let's check their distribution and if there are missing values."
   ]
  },
  {
   "cell_type": "code",
   "execution_count": 36,
   "metadata": {},
   "outputs": [
    {
     "name": "stdout",
     "output_type": "stream",
     "text": [
      "Distribution for RoomService:\n",
      "count     8512.000000\n",
      "mean       224.687617\n",
      "std        666.717663\n",
      "min          0.000000\n",
      "25%          0.000000\n",
      "50%          0.000000\n",
      "75%         47.000000\n",
      "max      14327.000000\n",
      "Name: RoomService, dtype: float64\n",
      "\n",
      "Missing values in RoomService: 181 (2.08%)\n",
      "\n",
      "Distribution for FoodCourt:\n",
      "count     8510.000000\n",
      "mean       458.077203\n",
      "std       1611.489240\n",
      "min          0.000000\n",
      "25%          0.000000\n",
      "50%          0.000000\n",
      "75%         76.000000\n",
      "max      29813.000000\n",
      "Name: FoodCourt, dtype: float64\n",
      "\n",
      "Missing values in FoodCourt: 183 (2.11%)\n",
      "\n",
      "Distribution for ShoppingMall:\n",
      "count     8485.000000\n",
      "mean       173.729169\n",
      "std        604.696458\n",
      "min          0.000000\n",
      "25%          0.000000\n",
      "50%          0.000000\n",
      "75%         27.000000\n",
      "max      23492.000000\n",
      "Name: ShoppingMall, dtype: float64\n",
      "\n",
      "Missing values in ShoppingMall: 208 (2.39%)\n",
      "\n",
      "Distribution for Spa:\n",
      "count     8510.000000\n",
      "mean       311.138778\n",
      "std       1136.705535\n",
      "min          0.000000\n",
      "25%          0.000000\n",
      "50%          0.000000\n",
      "75%         59.000000\n",
      "max      22408.000000\n",
      "Name: Spa, dtype: float64\n",
      "\n",
      "Missing values in Spa: 183 (2.11%)\n",
      "\n",
      "Distribution for VRDeck:\n",
      "count     8505.000000\n",
      "mean       304.854791\n",
      "std       1145.717189\n",
      "min          0.000000\n",
      "25%          0.000000\n",
      "50%          0.000000\n",
      "75%         46.000000\n",
      "max      24133.000000\n",
      "Name: VRDeck, dtype: float64\n",
      "\n",
      "Missing values in VRDeck: 188 (2.16%)\n",
      "\n"
     ]
    }
   ],
   "source": [
    "# Check the distribution and missing values for RoomService, FoodCourt, ShoppingMall, Spa, and VRDeck\n",
    "amenities = ['RoomService', 'FoodCourt', 'ShoppingMall', 'Spa', 'VRDeck']\n",
    "\n",
    "for amenity in amenities:\n",
    "    print(f\"Distribution for {amenity}:\")\n",
    "    print(train_x[amenity].describe())\n",
    "    print(f\"\\nMissing values in {amenity}: {train_x[amenity].isnull().sum()} ({train_x[amenity].isnull().mean() * 100:.2f}%)\\n\")"
   ]
  },
  {
   "cell_type": "markdown",
   "metadata": {},
   "source": [
    "We know from previous observations that when a passenger is on CryoSleep, he won't spend a penny on amenities, so let's fill with 0 these rows where CryoSleep is True."
   ]
  },
  {
   "cell_type": "code",
   "execution_count": 37,
   "metadata": {},
   "outputs": [],
   "source": [
    "# Fill amenities with 0 where CryoSleep is True\n",
    "for col in amenities:\n",
    "    train_x.loc[train_x['CryoSleep'] == 1, col] = train_x.loc[train_x['CryoSleep'] == 1, col].fillna(0.0)\n",
    "    test_x.loc[test_x['CryoSleep'] == 1, col] = test_x.loc[test_x['CryoSleep'] == 1, col].fillna(0.0)"
   ]
  },
  {
   "cell_type": "code",
   "execution_count": 38,
   "metadata": {},
   "outputs": [
    {
     "name": "stdout",
     "output_type": "stream",
     "text": [
      "Missing values in RoomService: 113 (1.30%)\n",
      "Missing values in FoodCourt: 112 (1.29%)\n",
      "Missing values in ShoppingMall: 109 (1.25%)\n",
      "Missing values in Spa: 116 (1.33%)\n",
      "Missing values in VRDeck: 121 (1.39%)\n"
     ]
    }
   ],
   "source": [
    "for amenity in amenities: print(f\"Missing values in {amenity}: {train_x[amenity].isnull().sum()} ({train_x[amenity].isnull().mean() * 100:.2f}%)\")"
   ]
  },
  {
   "cell_type": "markdown",
   "metadata": {},
   "source": [
    "Now for the rest of empty values, let's fill them with the mean value for that amenity."
   ]
  },
  {
   "cell_type": "code",
   "execution_count": 39,
   "metadata": {},
   "outputs": [],
   "source": [
    "# Fill remaining NaN values in amenities with the mean value for each amenity\n",
    "for col in amenities:\n",
    "    train_x[col] = train_x[col].fillna(train_x[col].mean())\n",
    "    test_x[col] = test_x[col].fillna(test_x[col].mean())"
   ]
  },
  {
   "cell_type": "markdown",
   "metadata": {},
   "source": [
    "### Transported\n",
    "Whether the passenger was transported to another dimension. This is the target, the column I am trying to predict."
   ]
  },
  {
   "cell_type": "code",
   "execution_count": 40,
   "metadata": {},
   "outputs": [
    {
     "name": "stdout",
     "output_type": "stream",
     "text": [
      "Transported distribution (counts):\n",
      "Transported\n",
      "1    4378\n",
      "0    4315\n",
      "Name: count, dtype: int64\n",
      "\n",
      "Transported distribution (percentages):\n",
      "Transported\n",
      "1    50.36\n",
      "0    49.64\n",
      "Name: proportion, dtype: float64\n",
      "Missing values in Transported:  0 (0.00%)\n"
     ]
    }
   ],
   "source": [
    "# Print the distribution of Transported\n",
    "cryosleep_distribution = train_y.value_counts(dropna=False)\n",
    "cryosleep_percentages = (train_y.value_counts(normalize=True, dropna=False) * 100).round(2)\n",
    "\n",
    "print(\"Transported distribution (counts):\")\n",
    "print(cryosleep_distribution)\n",
    "print(\"\\nTransported distribution (percentages):\")\n",
    "print(cryosleep_percentages)\n",
    "\n",
    "print(\"Missing values in Transported: \", train_y.isnull().sum(), f\"({train_y.isnull().sum()/len(train_x)*100:.2f}%)\")"
   ]
  },
  {
   "cell_type": "markdown",
   "metadata": {},
   "source": [
    "The class to be predicted is highly balanced so we won't have to apply any preprocessing."
   ]
  },
  {
   "cell_type": "markdown",
   "metadata": {},
   "source": [
    "### Unused columns\n",
    "After analyze all the features, let's get rid of the useless columns."
   ]
  },
  {
   "cell_type": "code",
   "execution_count": 41,
   "metadata": {},
   "outputs": [
    {
     "data": {
      "text/plain": [
       "Index(['PassengerId', 'HomePlanet', 'CryoSleep', 'Cabin', 'Destination', 'Age',\n",
       "       'VIP', 'RoomService', 'FoodCourt', 'ShoppingMall', 'Spa', 'VRDeck',\n",
       "       'Name', 'Group', 'numMembers', 'isHomeEarth', 'isHomeEuropa',\n",
       "       'CabinDeck', 'CabinNum', 'CabinSide', 'isTrappist', 'isCancri'],\n",
       "      dtype='object')"
      ]
     },
     "execution_count": 41,
     "metadata": {},
     "output_type": "execute_result"
    }
   ],
   "source": [
    "train_x.columns"
   ]
  },
  {
   "cell_type": "code",
   "execution_count": 42,
   "metadata": {},
   "outputs": [
    {
     "data": {
      "text/plain": [
       "Index(['CryoSleep', 'Age', 'VIP', 'RoomService', 'FoodCourt', 'ShoppingMall',\n",
       "       'Spa', 'VRDeck', 'numMembers', 'isHomeEarth', 'isHomeEuropa',\n",
       "       'isTrappist', 'isCancri'],\n",
       "      dtype='object')"
      ]
     },
     "execution_count": 42,
     "metadata": {},
     "output_type": "execute_result"
    }
   ],
   "source": [
    "columns_to_drop = ['PassengerId', 'HomePlanet', 'Cabin', 'Destination', 'Name', 'Group', 'CabinDeck', 'CabinNum', 'CabinSide']\n",
    "train_x = train_x.drop(columns=columns_to_drop)\n",
    "test_x = test_x.drop(columns=columns_to_drop)\n",
    "train_x.columns"
   ]
  },
  {
   "cell_type": "markdown",
   "metadata": {},
   "source": [
    "## 2) Reduction on the complexity of the problem's dataset"
   ]
  },
  {
   "cell_type": "code",
   "execution_count": 43,
   "metadata": {},
   "outputs": [],
   "source": [
    "cat_columns = ['CryoSleep', 'VIP', 'isHomeEarth', 'isHomeEuropa', 'isTrappist', 'isCancri']\n",
    "num_columns = ['Age', 'RoomService', 'FoodCourt', 'ShoppingMall', 'Spa', 'VRDeck', 'numMembers']"
   ]
  },
  {
   "cell_type": "markdown",
   "metadata": {},
   "source": [
    "### Correlation Matrix\n",
    "First of all let's check the correlation matrix for the numerical columns, to see if the information of any feature is duplicated on another one."
   ]
  },
  {
   "cell_type": "code",
   "execution_count": 44,
   "metadata": {},
   "outputs": [
    {
     "data": {
      "image/png": "[encoded data removed]",
      "text/plain": [
       "<Figure size 1200x800 with 2 Axes>"
      ]
     },
     "metadata": {},
     "output_type": "display_data"
    }
   ],
   "source": [
    "# Plot the correlation matrix for numerical columns\n",
    "plt.figure(figsize=(12, 8))\n",
    "sns.heatmap(train_x[num_columns].corr(), annot=True, fmt=\".2f\", cmap='coolwarm', square=True, cbar_kws={\"shrink\": .8})\n",
    "plt.title('Correlation Matrix for Numerical Features')\n",
    "plt.show()"
   ]
  },
  {
   "cell_type": "markdown",
   "metadata": {},
   "source": [
    "There is no correlation between any of the numerical features, so we can't remove any of them."
   ]
  },
  {
   "cell_type": "markdown",
   "metadata": {},
   "source": [
    "### Normalization\n",
    "Let's normalize the numerical variables with a min-max normalizer in order to reduce the computation time during the training part."
   ]
  },
  {
   "cell_type": "code",
   "execution_count": 46,
   "metadata": {},
   "outputs": [],
   "source": [
    "# Normalize the numerical variables with a min-max normalizer\n",
    "scaler = MinMaxScaler()\n",
    "scaler.fit(train_x[num_columns])\n",
    "\n",
    "train_x[num_columns] = scaler.transform(train_x[num_columns])\n",
    "test_x[num_columns] = scaler.transform(test_x[num_columns])"
   ]
  },
  {
   "cell_type": "code",
   "execution_count": 47,
   "metadata": {},
   "outputs": [
    {
     "name": "stdout",
     "output_type": "stream",
     "text": [
      "\n",
      "\n",
      "Distribution for Age:\n",
      "count    8693.000000\n",
      "mean        0.364911\n",
      "std         0.181507\n",
      "min         0.000000\n",
      "25%         0.253165\n",
      "50%         0.341772\n",
      "75%         0.468354\n",
      "max         1.000000\n",
      "Name: Age, dtype: float64\n",
      "\n",
      "\n",
      "Distribution for RoomService:\n",
      "count    8693.000000\n",
      "mean        0.015559\n",
      "std         0.046069\n",
      "min         0.000000\n",
      "25%         0.000000\n",
      "50%         0.000000\n",
      "75%         0.004258\n",
      "max         1.000000\n",
      "Name: RoomService, dtype: float64\n",
      "\n",
      "\n",
      "Distribution for FoodCourt:\n",
      "count    8693.000000\n",
      "mean        0.015238\n",
      "std         0.053499\n",
      "min         0.000000\n",
      "25%         0.000000\n",
      "50%         0.000000\n",
      "75%         0.003119\n",
      "max         1.000000\n",
      "Name: FoodCourt, dtype: float64\n",
      "\n",
      "\n",
      "Distribution for ShoppingMall:\n",
      "count    8693.000000\n",
      "mean        0.007310\n",
      "std         0.025443\n",
      "min         0.000000\n",
      "25%         0.000000\n",
      "50%         0.000000\n",
      "75%         0.001362\n",
      "max         1.000000\n",
      "Name: ShoppingMall, dtype: float64\n",
      "\n",
      "\n",
      "Distribution for Spa:\n",
      "count    8693.000000\n",
      "mean        0.013777\n",
      "std         0.050206\n",
      "min         0.000000\n",
      "25%         0.000000\n",
      "50%         0.000000\n",
      "75%         0.003302\n",
      "max         1.000000\n",
      "Name: Spa, dtype: float64\n",
      "\n",
      "\n",
      "Distribution for VRDeck:\n",
      "count    8693.000000\n",
      "mean        0.012534\n",
      "std         0.046972\n",
      "min         0.000000\n",
      "25%         0.000000\n",
      "50%         0.000000\n",
      "75%         0.002403\n",
      "max         1.000000\n",
      "Name: VRDeck, dtype: float64\n",
      "\n",
      "\n",
      "Distribution for numMembers:\n",
      "count    8693.000000\n",
      "mean        0.147935\n",
      "std         0.228050\n",
      "min         0.000000\n",
      "25%         0.000000\n",
      "50%         0.000000\n",
      "75%         0.285714\n",
      "max         1.000000\n",
      "Name: numMembers, dtype: float64\n"
     ]
    }
   ],
   "source": [
    "# Print distribution of numerical features after normalization\n",
    "for col in num_columns:\n",
    "    print(f\"\\n\\nDistribution for {col}:\")\n",
    "    print(train_x[col].describe())"
   ]
  },
  {
   "cell_type": "markdown",
   "metadata": {},
   "source": [
    "### Principal Component Analysis (PCA)\n",
    "After normalize the numerical features, let's analyze the whole set of features with PCA in order to reduce the dimensionality of the problem without losing too much information."
   ]
  },
  {
   "cell_type": "code",
   "execution_count": 48,
   "metadata": {},
   "outputs": [
    {
     "name": "stdout",
     "output_type": "stream",
     "text": [
      "\n",
      "Explained variance ratio for each principal component:\n",
      "[0.57183787 0.32104558 0.03662144 0.02252234 0.02152877 0.01969752]\n",
      "\n",
      "% of variance kept: 99.33%\n"
     ]
    }
   ],
   "source": [
    "# Initialize PCA asking to reduce dimensionality while preserving 98% of variance\n",
    "pca = PCA(n_components=0.98, random_state=0)\n",
    "\n",
    "train_x_pca = pca.fit_transform(train_x[num_columns])\n",
    "\n",
    "# Obtain the explained variance ratio\n",
    "explained_variance = pca.explained_variance_ratio_\n",
    "print(\"\\nExplained variance ratio for each principal component:\")\n",
    "print(explained_variance)\n",
    "print(f\"\\n% of variance kept: {np.sum(explained_variance) * 100:.2f}%\")\n",
    "\n",
    "# Transform the test set\n",
    "test_x_pca = pca.transform(test_x[num_columns])"
   ]
  },
  {
   "cell_type": "markdown",
   "metadata": {},
   "source": [
    "We configure PCA to retain at least 98% of the total variance that the features contain. The obtained results are telling us that only one variable was removed, because to remove the next one will drop the variance by a ~2%. \n",
    "\n",
    "At the end is not a problem to only have the dimensionality of the problem reduced by one, because at the end we don't have a huge amount of features on this problem, so the dataset is not too complex."
   ]
  },
  {
   "cell_type": "markdown",
   "metadata": {},
   "source": [
    "Finally we joint the resulting features for apply PCA with the categorical features. "
   ]
  },
  {
   "cell_type": "code",
   "execution_count": 49,
   "metadata": {},
   "outputs": [
    {
     "name": "stdout",
     "output_type": "stream",
     "text": [
      "Final train feature shape: (8693, 12)\n",
      "Final test feature shape: (4277, 12)\n"
     ]
    }
   ],
   "source": [
    "# Select categorical features from train_x, val_x, and test_x\n",
    "train_cat = train_x[cat_columns].values\n",
    "test_cat = test_x[cat_columns].values\n",
    "\n",
    "# Combine PCA features and categorical features\n",
    "X_train_final = np.hstack([train_x_pca, train_cat])\n",
    "X_test_final = np.hstack([test_x_pca, test_cat])\n",
    "\n",
    "print(\"Final train feature shape:\", X_train_final.shape)\n",
    "print(\"Final test feature shape:\", X_test_final.shape)"
   ]
  },
  {
   "cell_type": "markdown",
   "metadata": {},
   "source": [
    "## 3) Train the resulting dataset"
   ]
  },
  {
   "cell_type": "markdown",
   "metadata": {},
   "source": [
    "### 5-fold Cross-Validation"
   ]
  }
 ],
 "metadata": {
  "kaggle": {
   "accelerator": "none",
   "dataSources": [
    {
     "databundleVersionId": 3220602,
     "sourceId": 34377,
     "sourceType": "competition"
    }
   ],
   "dockerImageVersionId": 31012,
   "isGpuEnabled": false,
   "isInternetEnabled": true,
   "language": "python",
   "sourceType": "notebook"
  },
  "kernelspec": {
   "display_name": "Python 3",
   "language": "python",
   "name": "python3"
  },
  "language_info": {
   "codemirror_mode": {
    "name": "ipython",
    "version": 3
   },
   "file_extension": ".py",
   "mimetype": "text/x-python",
   "name": "python",
   "nbconvert_exporter": "python",
   "pygments_lexer": "ipython3",
   "version": "3.11.9"
  }
 },
 "nbformat": 4,
 "nbformat_minor": 4
}
